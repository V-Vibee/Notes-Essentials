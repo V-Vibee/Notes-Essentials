{
 "cells": [
  {
   "cell_type": "code",
   "execution_count": 1,
   "id": "eebd1e84",
   "metadata": {},
   "outputs": [],
   "source": [
    "# python tutorial: Harshit\n"
   ]
  },
  {
   "cell_type": "code",
   "execution_count": 5,
   "id": "160f4ef1",
   "metadata": {},
   "outputs": [],
   "source": [
    "x= \"Hello world\"\n",
    "\n",
    "        "
   ]
  },
  {
   "cell_type": "code",
   "execution_count": 6,
   "id": "912d84fd",
   "metadata": {},
   "outputs": [
    {
     "name": "stdout",
     "output_type": "stream",
     "text": [
      "dlrow olleH\n"
     ]
    }
   ],
   "source": [
    "# [START:END:STEPS] Hence it is called as palindrome\n",
    "print(x[::-1])"
   ]
  },
  {
   "cell_type": "code",
   "execution_count": 9,
   "id": "0dfc869c",
   "metadata": {},
   "outputs": [
    {
     "name": "stdout",
     "output_type": "stream",
     "text": [
      "ytrap eht ot emocleW\n"
     ]
    }
   ],
   "source": [
    "y=\"Welcome to the party\"\n",
    "print(y[::-1])"
   ]
  },
  {
   "cell_type": "code",
   "execution_count": 10,
   "id": "5d3571bf",
   "metadata": {},
   "outputs": [
    {
     "name": "stdout",
     "output_type": "stream",
     "text": [
      "Distinction\n"
     ]
    }
   ],
   "source": [
    "marks=80\n",
    "gender= \"female\"\n",
    "\n",
    "if gender== \"male\":\n",
    "    if marks>90:\n",
    "        print(\"Excellent\")\n",
    "    elif marks> 80:\n",
    "        print(\"Distinction\")\n",
    "    elif marks> 70:\n",
    "        print(\"Average\")\n",
    "    else:\n",
    "        print(\"Poor\")\n",
    "          \n",
    "else:\n",
    "    if marks>80:\n",
    "        print(\"Excellent\")\n",
    "    elif marks>70:\n",
    "        print('Distinction')\n",
    "    elif marks> 60:\n",
    "        print(\"Average\")\n",
    "    else:\n",
    "        print(\"Poor\")    \n",
    "        "
   ]
  },
  {
   "cell_type": "code",
   "execution_count": 12,
   "id": "09eb818f",
   "metadata": {},
   "outputs": [
    {
     "name": "stdout",
     "output_type": "stream",
     "text": [
      "Average\n",
      "hello world\n"
     ]
    }
   ],
   "source": [
    "marks=80\n",
    "gender= \"male\"\n",
    "\n",
    "if gender== \"male\":\n",
    "    if marks>90:\n",
    "        print(\"Excellent\")\n",
    "    elif marks> 80:\n",
    "        print(\"Distinction\")\n",
    "    elif marks> 70:\n",
    "        print(\"Average\")\n",
    "    else:\n",
    "        print(\"Poor\")\n",
    "        \n",
    "print('hello world')        "
   ]
  },
  {
   "cell_type": "code",
   "execution_count": null,
   "id": "9c9e7eea",
   "metadata": {},
   "outputs": [],
   "source": []
  },
  {
   "cell_type": "code",
   "execution_count": null,
   "id": "c9c7b13f",
   "metadata": {},
   "outputs": [],
   "source": []
  }
 ],
 "metadata": {
  "kernelspec": {
   "display_name": "Python 3",
   "language": "python",
   "name": "python3"
  },
  "language_info": {
   "codemirror_mode": {
    "name": "ipython",
    "version": 3
   },
   "file_extension": ".py",
   "mimetype": "text/x-python",
   "name": "python",
   "nbconvert_exporter": "python",
   "pygments_lexer": "ipython3",
   "version": "3.8.8"
  }
 },
 "nbformat": 4,
 "nbformat_minor": 5
}
